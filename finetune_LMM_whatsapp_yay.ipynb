{
  "nbformat": 4,
  "nbformat_minor": 0,
  "metadata": {
    "colab": {
      "provenance": [],
      "authorship_tag": "ABX9TyM97skPjNVC5KW+RuHrANfn",
      "include_colab_link": true
    },
    "kernelspec": {
      "name": "python3",
      "display_name": "Python 3"
    },
    "language_info": {
      "name": "python"
    }
  },
  "cells": [
    {
      "cell_type": "markdown",
      "metadata": {
        "id": "view-in-github",
        "colab_type": "text"
      },
      "source": [
        "<a href=\"https://colab.research.google.com/github/HoldenCaulfieldRye/DeepLearnNLP/blob/master/finetune_LMM_whatsapp_yay.ipynb\" target=\"_parent\"><img src=\"https://colab.research.google.com/assets/colab-badge.svg\" alt=\"Open In Colab\"/></a>"
      ]
    },
    {
      "cell_type": "code",
      "execution_count": null,
      "metadata": {
        "id": "6S3wCgm21r02"
      },
      "outputs": [],
      "source": [
        "# Here's an example Python script that demonstrates how to export a WhatsApp chat history to Google Sheets using these steps:\n",
        "\n",
        "from selenium import webdriver\n",
        "from selenium.webdriver.common.keys import Keys\n",
        "import gspread\n",
        "from oauth2client.service_account import ServiceAccountCredentials\n",
        "\n",
        "# Set up the Google Sheets API credentials\n",
        "scope = ['https://www.googleapis.com/auth/drive']\n",
        "creds = ServiceAccountCredentials.from_json_keyfile_name('path/to/your/creds.json', scope)\n",
        "client = gspread.authorize(creds)\n",
        "\n",
        "# Set up the Selenium WebDriver\n",
        "driver = webdriver.Chrome('path/to/chromedriver')\n",
        "driver.get('https://web.whatsapp.com/')\n",
        "input('Scan QR code and press Enter to continue')\n",
        "\n",
        "# Access a specific chat history\n",
        "search_box = driver.find_element_by_xpath('//div[@class=\"_2S1VP copyable-text selectable-text\"]')\n",
        "search_box.send_keys('Chat Name')\n",
        "search_box.send_keys(Keys.ENTER)\n",
        "chat = driver.find_element_by_xpath('//div[@class=\"_9tCEa\"]')\n",
        "chat.click()\n",
        "\n",
        "# Extract the chat messages\n",
        "msgs = driver.find_elements_by_xpath('//div[@class=\"copyable-text\"][@dir=\"ltr\"]')\n",
        "message_list = []\n",
        "for msg in msgs:\n",
        "    message_list.append(msg.text)\n",
        "\n",
        "# Create a new Google Sheet and add the chat history to it\n",
        "gspread_sheet = client.create('WhatsApp Chat History')\n",
        "worksheet = gspread_sheet.worksheet('Sheet1')\n",
        "for i, message in enumerate(message_list):\n",
        "    worksheet.update_cell(i+1, 1, message)\n",
        "\n",
        "# Close the Selenium WebDriver\n",
        "driver.quit()"
      ]
    }
  ]
}